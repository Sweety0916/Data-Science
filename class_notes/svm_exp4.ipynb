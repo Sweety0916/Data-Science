{
  "nbformat": 4,
  "nbformat_minor": 0,
  "metadata": {
    "colab": {
      "provenance": [],
      "collapsed_sections": [],
      "toc_visible": true,
      "authorship_tag": "ABX9TyMEcNTFwThxLXgBBmEIbywh",
      "include_colab_link": true
    },
    "kernelspec": {
      "name": "python3",
      "display_name": "Python 3"
    },
    "language_info": {
      "name": "python"
    }
  },
  "cells": [
    {
      "cell_type": "markdown",
      "metadata": {
        "id": "view-in-github",
        "colab_type": "text"
      },
      "source": [
        "<a href=\"https://colab.research.google.com/github/Sweety0916/Data-Science/blob/main/class_notes/svm_exp4.ipynb\" target=\"_parent\"><img src=\"https://colab.research.google.com/assets/colab-badge.svg\" alt=\"Open In Colab\"/></a>"
      ]
    },
    {
      "cell_type": "markdown",
      "source": [
        "implement support vector machine and analysis the accuracy."
      ],
      "metadata": {
        "id": "qp6LLbx3J46j"
      }
    },
    {
      "cell_type": "code",
      "source": [
        "import numpy as np"
      ],
      "metadata": {
        "id": "RPtS_BWgKZWS"
      },
      "execution_count": 4,
      "outputs": []
    },
    {
      "cell_type": "code",
      "source": [
        "import pandas as pd\n",
        "import matplotlib.pyplot as plt\n",
        "import seaborn as sns\n",
        "from sklearn import svm"
      ],
      "metadata": {
        "id": "HvEynYESHgpu"
      },
      "execution_count": 27,
      "outputs": []
    },
    {
      "cell_type": "code",
      "source": [
        "# a linear data\n",
        "\n",
        "x=np.array([2,7,9,9.4,2,0,6,8,7,2,4,5])\n",
        "y=np.array([9,7,3.4,6.7,8,1,3,6,2,3,5,2])"
      ],
      "metadata": {
        "id": "g61troYOHvVf"
      },
      "execution_count": 17,
      "outputs": []
    },
    {
      "cell_type": "code",
      "source": [
        "plt.scatter(x,y)\n",
        "plt.show()"
      ],
      "metadata": {
        "id": "P1ba0hPHHvNH",
        "colab": {
          "base_uri": "https://localhost:8080/",
          "height": 265
        },
        "outputId": "24d76051-bd33-4bb3-a3d4-35ca990783f7"
      },
      "execution_count": 18,
      "outputs": [
        {
          "output_type": "display_data",
          "data": {
            "text/plain": [
              "<Figure size 432x288 with 1 Axes>"
            ],
            "image/png": "[encoded data removed]"
          },
          "metadata": {
            "needs_background": "light"
          }
        }
      ]
    },
    {
      "cell_type": "code",
      "source": [
        "#  training_X=[2,4,5,6,8,2,9,87,3,5,6]\n",
        "training_X=np.vstack((x,y)).T\n",
        "training_Y=[0,1,0,1,0,1,1,1,0,0,1,1]"
      ],
      "metadata": {
        "id": "4v7VkMQXHvHJ"
      },
      "execution_count": 36,
      "outputs": []
    },
    {
      "cell_type": "code",
      "source": [
        "#DEFINE MODEL\n",
        "clf=svm.SVC(kernel='linear', C=1.0)"
      ],
      "metadata": {
        "id": "1cTfsO3NHvCf"
      },
      "execution_count": 37,
      "outputs": []
    },
    {
      "cell_type": "code",
      "source": [
        "clf.fit(training_X,training_Y)"
      ],
      "metadata": {
        "id": "7Acw8OMuHu9Y",
        "colab": {
          "base_uri": "https://localhost:8080/"
        },
        "outputId": "3dd529e5-92ab-4bfc-aa8f-d067028e50a0"
      },
      "execution_count": 38,
      "outputs": [
        {
          "output_type": "execute_result",
          "data": {
            "text/plain": [
              "SVC(kernel='linear')"
            ]
          },
          "metadata": {},
          "execution_count": 38
        }
      ]
    },
    {
      "cell_type": "code",
      "source": [
        "w=clf.coef_[0]\n",
        "a=-w[0]/w[1]\n",
        "XX=np.linspace(0,13)\n",
        "YY=a*XX-clf.intercept_[0]/w[1]\n",
        "plt.plot(XX,YY,'k')\n",
        "plt.scatter(training_X[:,0],training_X[:,1],c=training_Y)\n",
        "plt.legend()\n",
        "plt.show()"
      ],
      "metadata": {
        "id": "mB5XGd5uHu4Q",
        "colab": {
          "base_uri": "https://localhost:8080/",
          "height": 282
        },
        "outputId": "fe3c5fa8-eea0-4d56-8af0-cc2c31c12736"
      },
      "execution_count": 39,
      "outputs": [
        {
          "output_type": "stream",
          "name": "stderr",
          "text": [
            "WARNING:matplotlib.legend:No handles with labels found to put in legend.\n"
          ]
        },
        {
          "output_type": "display_data",
          "data": {
            "text/plain": [
              "<Figure size 432x288 with 1 Axes>"
            ],
            "image/png": "[encoded data removed]"
          },
          "metadata": {
            "needs_background": "light"
          }
        }
      ]
    },
    {
      "cell_type": "code",
      "source": [
        "import numpy as np\n",
        "import pandas as pd\n",
        "import matplotlib.pyplot as plt\n",
        "import seaborn as sns\n",
        "from sklearn import svm\n",
        "from sklearn import datasets"
      ],
      "metadata": {
        "id": "EWaYNqTnHkDk"
      },
      "execution_count": 40,
      "outputs": []
    },
    {
      "cell_type": "code",
      "source": [
        "circle_x,circle_y=datasets.make_circles(n_samples=300,noise=0.055)"
      ],
      "metadata": {
        "id": "7oBmLTDJUzU-"
      },
      "execution_count": 51,
      "outputs": []
    },
    {
      "cell_type": "code",
      "source": [
        "plt.scatter(circle_x[:,0],circle_x[:,1],c=circle_y,marker='.')\n",
        "plt.show()"
      ],
      "metadata": {
        "colab": {
          "base_uri": "https://localhost:8080/",
          "height": 265
        },
        "id": "7f1bCYJKUzRq",
        "outputId": "becd29a8-9ecd-4d32-95ce-adc10ed3b9e8"
      },
      "execution_count": 52,
      "outputs": [
        {
          "output_type": "display_data",
          "data": {
            "text/plain": [
              "<Figure size 432x288 with 1 Axes>"
            ],
            "image/png": "[encoded data removed]"
          },
          "metadata": {
            "needs_background": "light"
          }
        }
      ]
    },
    {
      "cell_type": "code",
      "source": [
        "nonlinear_clf=svm.SVC(kernel='rbf',C=1.0)"
      ],
      "metadata": {
        "id": "VC-60VXpUzOK"
      },
      "execution_count": 43,
      "outputs": []
    },
    {
      "cell_type": "code",
      "source": [
        "clf.fit(circle_x,circle_y)\n"
      ],
      "metadata": {
        "colab": {
          "base_uri": "https://localhost:8080/"
        },
        "id": "ezhPiKLeUzKx",
        "outputId": "b0a91691-48f5-4990-f11e-2ec3e8e69890"
      },
      "execution_count": 44,
      "outputs": [
        {
          "output_type": "execute_result",
          "data": {
            "text/plain": [
              "SVC(kernel='linear')"
            ]
          },
          "metadata": {},
          "execution_count": 44
        }
      ]
    },
    {
      "cell_type": "code",
      "source": [
        "def plot_decision_boundary(model,ax=None):\n",
        "  if ax is None:\n",
        "    ax-plt.gca()\n",
        "    xlim=ax.get_xlim()\n",
        "    ylim=ax.get_ylim()\n",
        "    x=np.linspace (xlim[0],xlim[1],30)\n",
        "    y=np.linspace (ylim[0],ylim[1],30)\n",
        "    Y,X=np.meshgrid(y,x)\n",
        "    xy=np.vstack([x.ravel(),Y.ravel()]).T \n",
        "    P=model.decision_function(xy).reshape(X.shape)\n",
        "    ax.contour(X,Y,P,\n",
        "               levels-[0],alpha=0.5,\n",
        "               linestyles=['-'])\n"
      ],
      "metadata": {
        "id": "71KnN8OUUzHB"
      },
      "execution_count": 54,
      "outputs": []
    },
    {
      "cell_type": "code",
      "source": [],
      "metadata": {
        "id": "cyHjxSknUzC6"
      },
      "execution_count": null,
      "outputs": []
    }
  ]
}